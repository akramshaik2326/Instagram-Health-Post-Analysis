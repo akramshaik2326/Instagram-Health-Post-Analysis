{
 "cells": [
  {
   "cell_type": "code",
   "execution_count": 6,
   "metadata": {},
   "outputs": [
    {
     "name": "stderr",
     "output_type": "stream",
     "text": [
      "C:\\Users\\akram\\Anaconda3\\lib\\site-packages\\ipykernel_launcher.py:5: SettingWithCopyWarning: \n",
      "A value is trying to be set on a copy of a slice from a DataFrame.\n",
      "Try using .loc[row_indexer,col_indexer] = value instead\n",
      "\n",
      "See the caveats in the documentation: http://pandas.pydata.org/pandas-docs/stable/indexing.html#indexing-view-versus-copy\n",
      "  \"\"\"\n"
     ]
    }
   ],
   "source": [
    "import pandas as pd\n",
    "\n",
    "data = pd.read_csv(r'D:\\Projectinsta\\coco_captions1.csv', error_bad_lines=False);\n",
    "data_text = data[['sentence']]\n",
    "data_text['index'] = data_text.index\n",
    "documents = data_text"
   ]
  },
  {
   "cell_type": "code",
   "execution_count": 7,
   "metadata": {},
   "outputs": [
    {
     "data": {
      "text/html": [
       "<div>\n",
       "<style scoped>\n",
       "    .dataframe tbody tr th:only-of-type {\n",
       "        vertical-align: middle;\n",
       "    }\n",
       "\n",
       "    .dataframe tbody tr th {\n",
       "        vertical-align: top;\n",
       "    }\n",
       "\n",
       "    .dataframe thead th {\n",
       "        text-align: right;\n",
       "    }\n",
       "</style>\n",
       "<table border=\"1\" class=\"dataframe\">\n",
       "  <thead>\n",
       "    <tr style=\"text-align: right;\">\n",
       "      <th></th>\n",
       "      <th>sentence</th>\n",
       "      <th>index</th>\n",
       "    </tr>\n",
       "  </thead>\n",
       "  <tbody>\n",
       "    <tr>\n",
       "      <th>0</th>\n",
       "      <td>a man in a suit and tie standing in a store.</td>\n",
       "      <td>0</td>\n",
       "    </tr>\n",
       "    <tr>\n",
       "      <th>1</th>\n",
       "      <td>a man in a suit and tie standing in front of ...</td>\n",
       "      <td>1</td>\n",
       "    </tr>\n",
       "    <tr>\n",
       "      <th>2</th>\n",
       "      <td>a man is standing on the back of a truck.</td>\n",
       "      <td>2</td>\n",
       "    </tr>\n",
       "    <tr>\n",
       "      <th>3</th>\n",
       "      <td>a man is standing next to a motorcycle.</td>\n",
       "      <td>3</td>\n",
       "    </tr>\n",
       "    <tr>\n",
       "      <th>4</th>\n",
       "      <td>a man is riding a bicycle down a river.</td>\n",
       "      <td>4</td>\n",
       "    </tr>\n",
       "    <tr>\n",
       "      <th>5</th>\n",
       "      <td>a person holding a cell phone in their hand.</td>\n",
       "      <td>5</td>\n",
       "    </tr>\n",
       "    <tr>\n",
       "      <th>6</th>\n",
       "      <td>a pair of scissors and a pair of scissors</td>\n",
       "      <td>6</td>\n",
       "    </tr>\n",
       "    <tr>\n",
       "      <th>7</th>\n",
       "      <td>a black and white photo of a person holding a...</td>\n",
       "      <td>7</td>\n",
       "    </tr>\n",
       "    <tr>\n",
       "      <th>8</th>\n",
       "      <td>a man holding a tennis racquet on a tennis co...</td>\n",
       "      <td>8</td>\n",
       "    </tr>\n",
       "    <tr>\n",
       "      <th>9</th>\n",
       "      <td>a group of people standing around a large ele...</td>\n",
       "      <td>9</td>\n",
       "    </tr>\n",
       "    <tr>\n",
       "      <th>10</th>\n",
       "      <td>a group of people standing around a table wit...</td>\n",
       "      <td>10</td>\n",
       "    </tr>\n",
       "    <tr>\n",
       "      <th>11</th>\n",
       "      <td>a group of people standing around a giant pai...</td>\n",
       "      <td>11</td>\n",
       "    </tr>\n",
       "    <tr>\n",
       "      <th>12</th>\n",
       "      <td>a picture of a person holding a cell phone.</td>\n",
       "      <td>12</td>\n",
       "    </tr>\n",
       "    <tr>\n",
       "      <th>13</th>\n",
       "      <td>a large clock tower with a clock on it 's side.</td>\n",
       "      <td>13</td>\n",
       "    </tr>\n",
       "    <tr>\n",
       "      <th>14</th>\n",
       "      <td>a man in a suit and tie standing in a room.</td>\n",
       "      <td>14</td>\n",
       "    </tr>\n",
       "    <tr>\n",
       "      <th>15</th>\n",
       "      <td>a picture of a street sign with a sky background</td>\n",
       "      <td>15</td>\n",
       "    </tr>\n",
       "    <tr>\n",
       "      <th>16</th>\n",
       "      <td>a close up of a person holding a snowboard</td>\n",
       "      <td>16</td>\n",
       "    </tr>\n",
       "    <tr>\n",
       "      <th>17</th>\n",
       "      <td>a pair of scissors and a pair of scissors</td>\n",
       "      <td>17</td>\n",
       "    </tr>\n",
       "    <tr>\n",
       "      <th>18</th>\n",
       "      <td>a person holding a pair of scissors in the hand.</td>\n",
       "      <td>18</td>\n",
       "    </tr>\n",
       "    <tr>\n",
       "      <th>19</th>\n",
       "      <td>a person holding a stuffed animal in a room.</td>\n",
       "      <td>19</td>\n",
       "    </tr>\n",
       "    <tr>\n",
       "      <th>20</th>\n",
       "      <td>a pair of scissors and a knife on a table</td>\n",
       "      <td>20</td>\n",
       "    </tr>\n",
       "    <tr>\n",
       "      <th>21</th>\n",
       "      <td>a person holding a pair of scissors in their ...</td>\n",
       "      <td>21</td>\n",
       "    </tr>\n",
       "    <tr>\n",
       "      <th>22</th>\n",
       "      <td>a black and white photo of a black and white cat</td>\n",
       "      <td>22</td>\n",
       "    </tr>\n",
       "    <tr>\n",
       "      <th>23</th>\n",
       "      <td>a man in a suit and tie standing in a room.</td>\n",
       "      <td>23</td>\n",
       "    </tr>\n",
       "    <tr>\n",
       "      <th>24</th>\n",
       "      <td>a man in a suit and tie standing in a room.</td>\n",
       "      <td>24</td>\n",
       "    </tr>\n",
       "    <tr>\n",
       "      <th>25</th>\n",
       "      <td>a man wearing a tie and a shirt and tie</td>\n",
       "      <td>25</td>\n",
       "    </tr>\n",
       "    <tr>\n",
       "      <th>26</th>\n",
       "      <td>a man wearing a tie and a suit jacket.</td>\n",
       "      <td>26</td>\n",
       "    </tr>\n",
       "    <tr>\n",
       "      <th>27</th>\n",
       "      <td>a man wearing a tie and a suit jacket.</td>\n",
       "      <td>27</td>\n",
       "    </tr>\n",
       "    <tr>\n",
       "      <th>28</th>\n",
       "      <td>a man is riding a motorcycle with a woman on ...</td>\n",
       "      <td>28</td>\n",
       "    </tr>\n",
       "    <tr>\n",
       "      <th>29</th>\n",
       "      <td>a red and white sign with a green light</td>\n",
       "      <td>29</td>\n",
       "    </tr>\n",
       "    <tr>\n",
       "      <th>...</th>\n",
       "      <td>...</td>\n",
       "      <td>...</td>\n",
       "    </tr>\n",
       "    <tr>\n",
       "      <th>52506</th>\n",
       "      <td>a man is sitting on a bench in a park.</td>\n",
       "      <td>52506</td>\n",
       "    </tr>\n",
       "    <tr>\n",
       "      <th>52507</th>\n",
       "      <td>a woman is standing in a room with a skateboard.</td>\n",
       "      <td>52507</td>\n",
       "    </tr>\n",
       "    <tr>\n",
       "      <th>52508</th>\n",
       "      <td>a man standing next to a giant teddy bear.</td>\n",
       "      <td>52508</td>\n",
       "    </tr>\n",
       "    <tr>\n",
       "      <th>52509</th>\n",
       "      <td>a dog is sitting on a boat in the water.</td>\n",
       "      <td>52509</td>\n",
       "    </tr>\n",
       "    <tr>\n",
       "      <th>52510</th>\n",
       "      <td>a pair of scissors sitting on top of a wooden...</td>\n",
       "      <td>52510</td>\n",
       "    </tr>\n",
       "    <tr>\n",
       "      <th>52511</th>\n",
       "      <td>a person holding a knife and cutting into a s...</td>\n",
       "      <td>52511</td>\n",
       "    </tr>\n",
       "    <tr>\n",
       "      <th>52512</th>\n",
       "      <td>a person holding a knife over a plate of food.</td>\n",
       "      <td>52512</td>\n",
       "    </tr>\n",
       "    <tr>\n",
       "      <th>52513</th>\n",
       "      <td>a group of people standing around a giant ted...</td>\n",
       "      <td>52513</td>\n",
       "    </tr>\n",
       "    <tr>\n",
       "      <th>52514</th>\n",
       "      <td>a woman is standing in front of a building wi...</td>\n",
       "      <td>52514</td>\n",
       "    </tr>\n",
       "    <tr>\n",
       "      <th>52515</th>\n",
       "      <td>a man is standing in front of a building.</td>\n",
       "      <td>52515</td>\n",
       "    </tr>\n",
       "    <tr>\n",
       "      <th>52516</th>\n",
       "      <td>a person holding a cell phone in their hand.</td>\n",
       "      <td>52516</td>\n",
       "    </tr>\n",
       "    <tr>\n",
       "      <th>52517</th>\n",
       "      <td>a red fire hydrant with a yellow chain on it</td>\n",
       "      <td>52517</td>\n",
       "    </tr>\n",
       "    <tr>\n",
       "      <th>52518</th>\n",
       "      <td>a person is flying a kite in the sky</td>\n",
       "      <td>52518</td>\n",
       "    </tr>\n",
       "    <tr>\n",
       "      <th>52519</th>\n",
       "      <td>a herd of cattle grazing on a lush green field.</td>\n",
       "      <td>52519</td>\n",
       "    </tr>\n",
       "    <tr>\n",
       "      <th>52520</th>\n",
       "      <td>a brown bear walking across a river.</td>\n",
       "      <td>52520</td>\n",
       "    </tr>\n",
       "    <tr>\n",
       "      <th>52521</th>\n",
       "      <td>a person is flying a kite on a beach.</td>\n",
       "      <td>52521</td>\n",
       "    </tr>\n",
       "    <tr>\n",
       "      <th>52522</th>\n",
       "      <td>a giraffe standing in a field with trees in t...</td>\n",
       "      <td>52522</td>\n",
       "    </tr>\n",
       "    <tr>\n",
       "      <th>52523</th>\n",
       "      <td>a man riding a horse on a beach.</td>\n",
       "      <td>52523</td>\n",
       "    </tr>\n",
       "    <tr>\n",
       "      <th>52524</th>\n",
       "      <td>a group of people standing around a large ele...</td>\n",
       "      <td>52524</td>\n",
       "    </tr>\n",
       "    <tr>\n",
       "      <th>52525</th>\n",
       "      <td>a man standing on a pier next to a building</td>\n",
       "      <td>52525</td>\n",
       "    </tr>\n",
       "    <tr>\n",
       "      <th>52526</th>\n",
       "      <td>a table topped with a vase filled with flowers.</td>\n",
       "      <td>52526</td>\n",
       "    </tr>\n",
       "    <tr>\n",
       "      <th>52527</th>\n",
       "      <td>a glass vase with a flower inside of it</td>\n",
       "      <td>52527</td>\n",
       "    </tr>\n",
       "    <tr>\n",
       "      <th>52528</th>\n",
       "      <td>a refrigerator with a bunch of magnets on it</td>\n",
       "      <td>52528</td>\n",
       "    </tr>\n",
       "    <tr>\n",
       "      <th>52529</th>\n",
       "      <td>a pair of scissors and a pair of scissors.</td>\n",
       "      <td>52529</td>\n",
       "    </tr>\n",
       "    <tr>\n",
       "      <th>52530</th>\n",
       "      <td>a pair of shoes sitting on top of a bed.</td>\n",
       "      <td>52530</td>\n",
       "    </tr>\n",
       "    <tr>\n",
       "      <th>52531</th>\n",
       "      <td>a person is standing in front of a suitcase</td>\n",
       "      <td>52531</td>\n",
       "    </tr>\n",
       "    <tr>\n",
       "      <th>52532</th>\n",
       "      <td>a person is holding a skateboard in a room.</td>\n",
       "      <td>52532</td>\n",
       "    </tr>\n",
       "    <tr>\n",
       "      <th>52533</th>\n",
       "      <td>a person holding a pair of scissors in the air.</td>\n",
       "      <td>52533</td>\n",
       "    </tr>\n",
       "    <tr>\n",
       "      <th>52534</th>\n",
       "      <td>a young boy holding a toothbrush in his mouth.</td>\n",
       "      <td>52534</td>\n",
       "    </tr>\n",
       "    <tr>\n",
       "      <th>52535</th>\n",
       "      <td>a man is sitting down while holding a cell ph...</td>\n",
       "      <td>52535</td>\n",
       "    </tr>\n",
       "  </tbody>\n",
       "</table>\n",
       "<p>52536 rows × 2 columns</p>\n",
       "</div>"
      ],
      "text/plain": [
       "                                                sentence  index\n",
       "0           a man in a suit and tie standing in a store.      0\n",
       "1       a man in a suit and tie standing in front of ...      1\n",
       "2              a man is standing on the back of a truck.      2\n",
       "3                a man is standing next to a motorcycle.      3\n",
       "4                a man is riding a bicycle down a river.      4\n",
       "5           a person holding a cell phone in their hand.      5\n",
       "6              a pair of scissors and a pair of scissors      6\n",
       "7       a black and white photo of a person holding a...      7\n",
       "8       a man holding a tennis racquet on a tennis co...      8\n",
       "9       a group of people standing around a large ele...      9\n",
       "10      a group of people standing around a table wit...     10\n",
       "11      a group of people standing around a giant pai...     11\n",
       "12           a picture of a person holding a cell phone.     12\n",
       "13       a large clock tower with a clock on it 's side.     13\n",
       "14           a man in a suit and tie standing in a room.     14\n",
       "15      a picture of a street sign with a sky background     15\n",
       "16            a close up of a person holding a snowboard     16\n",
       "17             a pair of scissors and a pair of scissors     17\n",
       "18      a person holding a pair of scissors in the hand.     18\n",
       "19          a person holding a stuffed animal in a room.     19\n",
       "20             a pair of scissors and a knife on a table     20\n",
       "21      a person holding a pair of scissors in their ...     21\n",
       "22      a black and white photo of a black and white cat     22\n",
       "23           a man in a suit and tie standing in a room.     23\n",
       "24           a man in a suit and tie standing in a room.     24\n",
       "25               a man wearing a tie and a shirt and tie     25\n",
       "26                a man wearing a tie and a suit jacket.     26\n",
       "27                a man wearing a tie and a suit jacket.     27\n",
       "28      a man is riding a motorcycle with a woman on ...     28\n",
       "29               a red and white sign with a green light     29\n",
       "...                                                  ...    ...\n",
       "52506             a man is sitting on a bench in a park.  52506\n",
       "52507   a woman is standing in a room with a skateboard.  52507\n",
       "52508         a man standing next to a giant teddy bear.  52508\n",
       "52509           a dog is sitting on a boat in the water.  52509\n",
       "52510   a pair of scissors sitting on top of a wooden...  52510\n",
       "52511   a person holding a knife and cutting into a s...  52511\n",
       "52512     a person holding a knife over a plate of food.  52512\n",
       "52513   a group of people standing around a giant ted...  52513\n",
       "52514   a woman is standing in front of a building wi...  52514\n",
       "52515          a man is standing in front of a building.  52515\n",
       "52516       a person holding a cell phone in their hand.  52516\n",
       "52517       a red fire hydrant with a yellow chain on it  52517\n",
       "52518               a person is flying a kite in the sky  52518\n",
       "52519    a herd of cattle grazing on a lush green field.  52519\n",
       "52520               a brown bear walking across a river.  52520\n",
       "52521              a person is flying a kite on a beach.  52521\n",
       "52522   a giraffe standing in a field with trees in t...  52522\n",
       "52523                   a man riding a horse on a beach.  52523\n",
       "52524   a group of people standing around a large ele...  52524\n",
       "52525        a man standing on a pier next to a building  52525\n",
       "52526    a table topped with a vase filled with flowers.  52526\n",
       "52527            a glass vase with a flower inside of it  52527\n",
       "52528       a refrigerator with a bunch of magnets on it  52528\n",
       "52529         a pair of scissors and a pair of scissors.  52529\n",
       "52530           a pair of shoes sitting on top of a bed.  52530\n",
       "52531        a person is standing in front of a suitcase  52531\n",
       "52532        a person is holding a skateboard in a room.  52532\n",
       "52533    a person holding a pair of scissors in the air.  52533\n",
       "52534     a young boy holding a toothbrush in his mouth.  52534\n",
       "52535   a man is sitting down while holding a cell ph...  52535\n",
       "\n",
       "[52536 rows x 2 columns]"
      ]
     },
     "execution_count": 7,
     "metadata": {},
     "output_type": "execute_result"
    }
   ],
   "source": [
    "documents"
   ]
  },
  {
   "cell_type": "code",
   "execution_count": 1,
   "metadata": {},
   "outputs": [],
   "source": [
    "import gensim\n",
    "from gensim.utils import simple_preprocess\n",
    "from gensim.parsing.preprocessing import STOPWORDS\n",
    "from nltk.stem import WordNetLemmatizer, SnowballStemmer\n",
    "from nltk.stem.porter import *\n",
    "import numpy as np\n",
    "np.random.seed(2018)"
   ]
  },
  {
   "cell_type": "code",
   "execution_count": 2,
   "metadata": {},
   "outputs": [
    {
     "name": "stderr",
     "output_type": "stream",
     "text": [
      "[nltk_data] Downloading package wordnet to\n",
      "[nltk_data]     C:\\Users\\akram\\AppData\\Roaming\\nltk_data...\n",
      "[nltk_data]   Package wordnet is already up-to-date!\n"
     ]
    },
    {
     "data": {
      "text/plain": [
       "True"
      ]
     },
     "execution_count": 2,
     "metadata": {},
     "output_type": "execute_result"
    }
   ],
   "source": [
    "import nltk\n",
    "nltk.download('wordnet')"
   ]
  },
  {
   "cell_type": "code",
   "execution_count": 3,
   "metadata": {},
   "outputs": [],
   "source": [
    "def lemmatize_stemming(text):\n",
    "    return stemmer.stem(WordNetLemmatizer().lemmatize(text, pos='v'))\n",
    "\n",
    "def preprocess(text):\n",
    "    result = []\n",
    "    for token in gensim.utils.simple_preprocess(text):\n",
    "        if token not in gensim.parsing.preprocessing.STOPWORDS and len(token) > 3:\n",
    "            result.append(lemmatize_stemming(token))\n",
    "    return result"
   ]
  },
  {
   "cell_type": "code",
   "execution_count": 4,
   "metadata": {},
   "outputs": [],
   "source": [
    "stemmer = SnowballStemmer('english')\n"
   ]
  },
  {
   "cell_type": "code",
   "execution_count": 8,
   "metadata": {},
   "outputs": [
    {
     "name": "stdout",
     "output_type": "stream",
     "text": [
      "original document: \n",
      "['', 'a', 'group', 'of', 'people', 'standing', 'around', 'a', 'ski', 'slope.']\n",
      "\n",
      "\n",
      " tokenized and lemmatized document: \n",
      "['group', 'peopl', 'stand', 'slope']\n"
     ]
    }
   ],
   "source": [
    "doc_sample = documents[documents['index'] == 4310].values[0][0]\n",
    "\n",
    "print('original document: ')\n",
    "words = []\n",
    "for word in doc_sample.split(' '):\n",
    "    words.append(word)\n",
    "print(words)\n",
    "print('\\n\\n tokenized and lemmatized document: ')\n",
    "print(preprocess(doc_sample))"
   ]
  },
  {
   "cell_type": "code",
   "execution_count": 9,
   "metadata": {},
   "outputs": [],
   "source": [
    "processed_docs = documents['sentence'].map(preprocess)"
   ]
  },
  {
   "cell_type": "code",
   "execution_count": 10,
   "metadata": {},
   "outputs": [],
   "source": [
    "dictionary = gensim.corpora.Dictionary(processed_docs)\n"
   ]
  },
  {
   "cell_type": "code",
   "execution_count": 12,
   "metadata": {},
   "outputs": [
    {
     "name": "stdout",
     "output_type": "stream",
     "text": [
      "Dictionary(718 unique tokens: ['stand', 'store', 'suit', 'build', 'truck']...)\n"
     ]
    }
   ],
   "source": [
    "print(dictionary)"
   ]
  },
  {
   "cell_type": "code",
   "execution_count": 13,
   "metadata": {},
   "outputs": [
    {
     "name": "stdout",
     "output_type": "stream",
     "text": [
      "0 stand\n",
      "1 store\n",
      "2 suit\n",
      "3 build\n",
      "4 truck\n",
      "5 motorcycl\n",
      "6 bicycl\n",
      "7 rid\n",
      "8 river\n",
      "9 cell\n",
      "10 hand\n"
     ]
    }
   ],
   "source": [
    "count = 0\n",
    "for k, v in dictionary.iteritems():\n",
    "    print(k, v)\n",
    "    count += 1\n",
    "    if count > 10:\n",
    "        break"
   ]
  },
  {
   "cell_type": "code",
   "execution_count": 14,
   "metadata": {},
   "outputs": [],
   "source": [
    "dictionary.filter_extremes(no_below=15, no_above=0.5, keep_n=100000)\n"
   ]
  },
  {
   "cell_type": "code",
   "execution_count": 15,
   "metadata": {},
   "outputs": [
    {
     "data": {
      "text/plain": [
       "[(0, 1), (24, 1), (26, 1), (207, 1)]"
      ]
     },
     "execution_count": 15,
     "metadata": {},
     "output_type": "execute_result"
    }
   ],
   "source": [
    "bow_corpus = [dictionary.doc2bow(doc) for doc in processed_docs]\n",
    "bow_corpus[4310]"
   ]
  },
  {
   "cell_type": "code",
   "execution_count": 16,
   "metadata": {},
   "outputs": [
    {
     "name": "stdout",
     "output_type": "stream",
     "text": [
      "Word 0 (\"stand\") appears 1 time.\n",
      "Word 24 (\"group\") appears 1 time.\n",
      "Word 26 (\"peopl\") appears 1 time.\n",
      "Word 207 (\"slope\") appears 1 time.\n"
     ]
    }
   ],
   "source": [
    "bow_doc_4310 = bow_corpus[4310]\n",
    "\n",
    "for i in range(len(bow_doc_4310)):\n",
    "    print(\"Word {} (\\\"{}\\\") appears {} time.\".format(bow_doc_4310[i][0], \n",
    "                                                     dictionary[bow_doc_4310[i][0]], \n",
    "                                                     bow_doc_4310[i][1]))"
   ]
  },
  {
   "cell_type": "code",
   "execution_count": 17,
   "metadata": {},
   "outputs": [],
   "source": [
    "from gensim import corpora, models\n",
    "\n",
    "tfidf = models.TfidfModel(bow_corpus)"
   ]
  },
  {
   "cell_type": "code",
   "execution_count": 18,
   "metadata": {},
   "outputs": [],
   "source": [
    "corpus_tfidf = tfidf[bow_corpus]"
   ]
  },
  {
   "cell_type": "code",
   "execution_count": 19,
   "metadata": {},
   "outputs": [
    {
     "name": "stdout",
     "output_type": "stream",
     "text": [
      "[(0, 0.24697969085752466), (1, 0.8857935573743662), (2, 0.3929005039675911)]\n"
     ]
    }
   ],
   "source": [
    "from pprint import pprint\n",
    "\n",
    "for doc in corpus_tfidf:\n",
    "    pprint(doc)\n",
    "    break"
   ]
  },
  {
   "cell_type": "code",
   "execution_count": 19,
   "metadata": {},
   "outputs": [],
   "source": [
    "lda_model = gensim.models.LdaMulticore(bow_corpus, num_topics=10, id2word=dictionary, passes=2, workers=2)\n"
   ]
  },
  {
   "cell_type": "code",
   "execution_count": 21,
   "metadata": {},
   "outputs": [
    {
     "name": "stdout",
     "output_type": "stream",
     "text": [
      "Topic: 0 \n",
      "Words: 0.170*\"street\" + 0.147*\"rid\" + 0.120*\"skateboard\" + 0.071*\"sign\" + 0.048*\"walk\" + 0.031*\"motorcycl\" + 0.028*\"train\" + 0.022*\"road\" + 0.021*\"travel\" + 0.020*\"track\"\n",
      "Topic: 1 \n",
      "Words: 0.176*\"stand\" + 0.082*\"suit\" + 0.082*\"room\" + 0.059*\"banana\" + 0.057*\"woman\" + 0.053*\"bunch\" + 0.044*\"group\" + 0.041*\"larg\" + 0.040*\"peopl\" + 0.026*\"tree\"\n",
      "Topic: 2 \n",
      "Words: 0.162*\"white\" + 0.077*\"black\" + 0.063*\"pizza\" + 0.062*\"build\" + 0.057*\"top\" + 0.054*\"stand\" + 0.044*\"plate\" + 0.040*\"cake\" + 0.034*\"slice\" + 0.028*\"peopl\"\n",
      "Topic: 3 \n",
      "Words: 0.117*\"coffe\" + 0.101*\"plate\" + 0.091*\"sandwich\" + 0.083*\"tenni\" + 0.073*\"play\" + 0.068*\"woman\" + 0.065*\"food\" + 0.061*\"game\" + 0.046*\"video\" + 0.039*\"court\"\n",
      "Topic: 4 \n",
      "Words: 0.159*\"tabl\" + 0.071*\"sit\" + 0.063*\"bowl\" + 0.054*\"top\" + 0.046*\"differ\" + 0.041*\"food\" + 0.035*\"orang\" + 0.033*\"type\" + 0.033*\"bunch\" + 0.031*\"vase\"\n",
      "Topic: 5 \n",
      "Words: 0.232*\"knife\" + 0.219*\"fork\" + 0.181*\"plate\" + 0.166*\"food\" + 0.081*\"cake\" + 0.024*\"cut\" + 0.021*\"piec\" + 0.018*\"chocol\" + 0.012*\"close\" + 0.009*\"person\"\n",
      "Topic: 6 \n",
      "Words: 0.182*\"food\" + 0.173*\"plate\" + 0.137*\"veget\" + 0.096*\"broccoli\" + 0.085*\"rice\" + 0.064*\"clock\" + 0.035*\"larg\" + 0.030*\"meat\" + 0.028*\"basebal\" + 0.024*\"close\"\n",
      "Topic: 7 \n",
      "Words: 0.218*\"hold\" + 0.142*\"phone\" + 0.142*\"cell\" + 0.104*\"person\" + 0.093*\"hand\" + 0.057*\"woman\" + 0.025*\"wear\" + 0.022*\"shirt\" + 0.021*\"surfboard\" + 0.018*\"book\"\n",
      "Topic: 8 \n",
      "Words: 0.098*\"woman\" + 0.087*\"sit\" + 0.070*\"hold\" + 0.062*\"bench\" + 0.056*\"frisbe\" + 0.053*\"park\" + 0.052*\"stand\" + 0.037*\"kite\" + 0.033*\"field\" + 0.033*\"snow\"\n",
      "Topic: 9 \n",
      "Words: 0.198*\"pair\" + 0.196*\"scissor\" + 0.113*\"hold\" + 0.059*\"person\" + 0.058*\"hand\" + 0.048*\"woman\" + 0.032*\"pink\" + 0.029*\"wine\" + 0.027*\"glass\" + 0.020*\"tabl\"\n"
     ]
    }
   ],
   "source": [
    "for idx, topic in lda_model.print_topics(-1):\n",
    "    print('Topic: {} \\nWords: {}'.format(idx, topic))"
   ]
  },
  {
   "cell_type": "code",
   "execution_count": 22,
   "metadata": {},
   "outputs": [],
   "source": [
    "lda_model_tfidf = gensim.models.LdaMulticore(corpus_tfidf, num_topics=10, id2word=dictionary, passes=2, workers=4)\n"
   ]
  },
  {
   "cell_type": "code",
   "execution_count": 23,
   "metadata": {},
   "outputs": [
    {
     "name": "stdout",
     "output_type": "stream",
     "text": [
      "Topic: 0 Word: 0.093*\"suit\" + 0.083*\"stand\" + 0.072*\"street\" + 0.072*\"skateboard\" + 0.061*\"room\" + 0.044*\"rid\" + 0.042*\"frisbe\" + 0.034*\"woman\" + 0.028*\"surfboard\" + 0.026*\"walk\"\n",
      "Topic: 1 Word: 0.044*\"vase\" + 0.042*\"flower\" + 0.041*\"rid\" + 0.037*\"ramp\" + 0.031*\"stuff\" + 0.030*\"tabl\" + 0.028*\"skateboard\" + 0.028*\"bear\" + 0.026*\"hors\" + 0.023*\"young\"\n",
      "Topic: 2 Word: 0.063*\"kite\" + 0.057*\"fri\" + 0.040*\"sandwich\" + 0.040*\"fli\" + 0.035*\"larg\" + 0.032*\"field\" + 0.029*\"fruit\" + 0.027*\"plate\" + 0.027*\"food\" + 0.021*\"background\"\n",
      "Topic: 3 Word: 0.112*\"scissor\" + 0.111*\"pair\" + 0.062*\"top\" + 0.048*\"pizza\" + 0.034*\"differ\" + 0.033*\"plate\" + 0.031*\"tabl\" + 0.031*\"person\" + 0.031*\"hand\" + 0.028*\"food\"\n",
      "Topic: 4 Word: 0.105*\"coffe\" + 0.080*\"sandwich\" + 0.064*\"sit\" + 0.054*\"woman\" + 0.054*\"bench\" + 0.051*\"plate\" + 0.027*\"kitchen\" + 0.025*\"food\" + 0.022*\"pink\" + 0.021*\"babi\"\n",
      "Topic: 5 Word: 0.051*\"close\" + 0.048*\"stand\" + 0.048*\"peopl\" + 0.046*\"group\" + 0.046*\"person\" + 0.039*\"motorcycl\" + 0.039*\"hold\" + 0.038*\"cake\" + 0.036*\"chocol\" + 0.034*\"snow\"\n",
      "Topic: 6 Word: 0.128*\"fork\" + 0.119*\"knife\" + 0.086*\"food\" + 0.082*\"plate\" + 0.052*\"shirt\" + 0.037*\"wear\" + 0.028*\"cake\" + 0.027*\"wine\" + 0.025*\"glass\" + 0.025*\"woman\"\n",
      "Topic: 7 Word: 0.076*\"banana\" + 0.074*\"tenni\" + 0.068*\"bunch\" + 0.054*\"build\" + 0.043*\"court\" + 0.042*\"clock\" + 0.041*\"hold\" + 0.033*\"woman\" + 0.031*\"tabl\" + 0.029*\"racquet\"\n",
      "Topic: 8 Word: 0.088*\"food\" + 0.081*\"veget\" + 0.077*\"plate\" + 0.069*\"broccoli\" + 0.069*\"rice\" + 0.051*\"game\" + 0.050*\"video\" + 0.046*\"play\" + 0.029*\"close\" + 0.028*\"meat\"\n",
      "Topic: 9 Word: 0.140*\"cell\" + 0.140*\"phone\" + 0.099*\"hold\" + 0.081*\"hand\" + 0.066*\"person\" + 0.029*\"bowl\" + 0.026*\"woman\" + 0.023*\"orang\" + 0.021*\"cake\" + 0.019*\"tabl\"\n"
     ]
    }
   ],
   "source": [
    "for idx, topic in lda_model_tfidf.print_topics(-1):\n",
    "    print('Topic: {} Word: {}'.format(idx, topic))"
   ]
  },
  {
   "cell_type": "code",
   "execution_count": 24,
   "metadata": {},
   "outputs": [
    {
     "name": "stdout",
     "output_type": "stream",
     "text": [
      "\n",
      "Score: 0.8499912619590759\t \n",
      "Topic: 0.198*\"pair\" + 0.196*\"scissor\" + 0.113*\"hold\" + 0.059*\"person\" + 0.058*\"hand\" + 0.048*\"woman\" + 0.032*\"pink\" + 0.029*\"wine\" + 0.027*\"glass\" + 0.020*\"tabl\"\n",
      "\n",
      "Score: 0.016672832891345024\t \n",
      "Topic: 0.218*\"hold\" + 0.142*\"phone\" + 0.142*\"cell\" + 0.104*\"person\" + 0.093*\"hand\" + 0.057*\"woman\" + 0.025*\"wear\" + 0.022*\"shirt\" + 0.021*\"surfboard\" + 0.018*\"book\"\n",
      "\n",
      "Score: 0.016667863354086876\t \n",
      "Topic: 0.098*\"woman\" + 0.087*\"sit\" + 0.070*\"hold\" + 0.062*\"bench\" + 0.056*\"frisbe\" + 0.053*\"park\" + 0.052*\"stand\" + 0.037*\"kite\" + 0.033*\"field\" + 0.033*\"snow\"\n",
      "\n",
      "Score: 0.01666710153222084\t \n",
      "Topic: 0.170*\"street\" + 0.147*\"rid\" + 0.120*\"skateboard\" + 0.071*\"sign\" + 0.048*\"walk\" + 0.031*\"motorcycl\" + 0.028*\"train\" + 0.022*\"road\" + 0.021*\"travel\" + 0.020*\"track\"\n",
      "\n",
      "Score: 0.01666703075170517\t \n",
      "Topic: 0.117*\"coffe\" + 0.101*\"plate\" + 0.091*\"sandwich\" + 0.083*\"tenni\" + 0.073*\"play\" + 0.068*\"woman\" + 0.065*\"food\" + 0.061*\"game\" + 0.046*\"video\" + 0.039*\"court\"\n",
      "\n",
      "Score: 0.016666950657963753\t \n",
      "Topic: 0.182*\"food\" + 0.173*\"plate\" + 0.137*\"veget\" + 0.096*\"broccoli\" + 0.085*\"rice\" + 0.064*\"clock\" + 0.035*\"larg\" + 0.030*\"meat\" + 0.028*\"basebal\" + 0.024*\"close\"\n",
      "\n",
      "Score: 0.016666904091835022\t \n",
      "Topic: 0.232*\"knife\" + 0.219*\"fork\" + 0.181*\"plate\" + 0.166*\"food\" + 0.081*\"cake\" + 0.024*\"cut\" + 0.021*\"piec\" + 0.018*\"chocol\" + 0.012*\"close\" + 0.009*\"person\"\n",
      "\n",
      "Score: 0.01666669361293316\t \n",
      "Topic: 0.176*\"stand\" + 0.082*\"suit\" + 0.082*\"room\" + 0.059*\"banana\" + 0.057*\"woman\" + 0.053*\"bunch\" + 0.044*\"group\" + 0.041*\"larg\" + 0.040*\"peopl\" + 0.026*\"tree\"\n",
      "\n",
      "Score: 0.01666668988764286\t \n",
      "Topic: 0.162*\"white\" + 0.077*\"black\" + 0.063*\"pizza\" + 0.062*\"build\" + 0.057*\"top\" + 0.054*\"stand\" + 0.044*\"plate\" + 0.040*\"cake\" + 0.034*\"slice\" + 0.028*\"peopl\"\n",
      "\n",
      "Score: 0.01666666939854622\t \n",
      "Topic: 0.159*\"tabl\" + 0.071*\"sit\" + 0.063*\"bowl\" + 0.054*\"top\" + 0.046*\"differ\" + 0.041*\"food\" + 0.035*\"orang\" + 0.033*\"type\" + 0.033*\"bunch\" + 0.031*\"vase\"\n"
     ]
    }
   ],
   "source": [
    "for index, score in sorted(lda_model[bow_corpus[4310]], key=lambda tup: -1*tup[1]):\n",
    "    print(\"\\nScore: {}\\t \\nTopic: {}\".format(score, lda_model.print_topic(index, 10)))"
   ]
  },
  {
   "cell_type": "code",
   "execution_count": 25,
   "metadata": {},
   "outputs": [
    {
     "name": "stdout",
     "output_type": "stream",
     "text": [
      "\n",
      "Score: 0.5751383304595947\t \n",
      "Topic: 0.112*\"scissor\" + 0.111*\"pair\" + 0.062*\"top\" + 0.048*\"pizza\" + 0.034*\"differ\" + 0.033*\"plate\" + 0.031*\"tabl\" + 0.031*\"person\" + 0.031*\"hand\" + 0.028*\"food\"\n",
      "\n",
      "Score: 0.2915191948413849\t \n",
      "Topic: 0.140*\"cell\" + 0.140*\"phone\" + 0.099*\"hold\" + 0.081*\"hand\" + 0.066*\"person\" + 0.029*\"bowl\" + 0.026*\"woman\" + 0.023*\"orang\" + 0.021*\"cake\" + 0.019*\"tabl\"\n",
      "\n",
      "Score: 0.016669271513819695\t \n",
      "Topic: 0.051*\"close\" + 0.048*\"stand\" + 0.048*\"peopl\" + 0.046*\"group\" + 0.046*\"person\" + 0.039*\"motorcycl\" + 0.039*\"hold\" + 0.038*\"cake\" + 0.036*\"chocol\" + 0.034*\"snow\"\n",
      "\n",
      "Score: 0.01666855625808239\t \n",
      "Topic: 0.076*\"banana\" + 0.074*\"tenni\" + 0.068*\"bunch\" + 0.054*\"build\" + 0.043*\"court\" + 0.042*\"clock\" + 0.041*\"hold\" + 0.033*\"woman\" + 0.031*\"tabl\" + 0.029*\"racquet\"\n",
      "\n",
      "Score: 0.016668066382408142\t \n",
      "Topic: 0.063*\"kite\" + 0.057*\"fri\" + 0.040*\"sandwich\" + 0.040*\"fli\" + 0.035*\"larg\" + 0.032*\"field\" + 0.029*\"fruit\" + 0.027*\"plate\" + 0.027*\"food\" + 0.021*\"background\"\n",
      "\n",
      "Score: 0.016667529940605164\t \n",
      "Topic: 0.093*\"suit\" + 0.083*\"stand\" + 0.072*\"street\" + 0.072*\"skateboard\" + 0.061*\"room\" + 0.044*\"rid\" + 0.042*\"frisbe\" + 0.034*\"woman\" + 0.028*\"surfboard\" + 0.026*\"walk\"\n",
      "\n",
      "Score: 0.01666742004454136\t \n",
      "Topic: 0.105*\"coffe\" + 0.080*\"sandwich\" + 0.064*\"sit\" + 0.054*\"woman\" + 0.054*\"bench\" + 0.051*\"plate\" + 0.027*\"kitchen\" + 0.025*\"food\" + 0.022*\"pink\" + 0.021*\"babi\"\n",
      "\n",
      "Score: 0.016667278483510017\t \n",
      "Topic: 0.088*\"food\" + 0.081*\"veget\" + 0.077*\"plate\" + 0.069*\"broccoli\" + 0.069*\"rice\" + 0.051*\"game\" + 0.050*\"video\" + 0.046*\"play\" + 0.029*\"close\" + 0.028*\"meat\"\n",
      "\n",
      "Score: 0.016667190939188004\t \n",
      "Topic: 0.044*\"vase\" + 0.042*\"flower\" + 0.041*\"rid\" + 0.037*\"ramp\" + 0.031*\"stuff\" + 0.030*\"tabl\" + 0.028*\"skateboard\" + 0.028*\"bear\" + 0.026*\"hors\" + 0.023*\"young\"\n",
      "\n",
      "Score: 0.016667146235704422\t \n",
      "Topic: 0.128*\"fork\" + 0.119*\"knife\" + 0.086*\"food\" + 0.082*\"plate\" + 0.052*\"shirt\" + 0.037*\"wear\" + 0.028*\"cake\" + 0.027*\"wine\" + 0.025*\"glass\" + 0.025*\"woman\"\n"
     ]
    }
   ],
   "source": [
    "for index, score in sorted(lda_model_tfidf[bow_corpus[4310]], key=lambda tup: -1*tup[1]):\n",
    "    print(\"\\nScore: {}\\t \\nTopic: {}\".format(score, lda_model_tfidf.print_topic(index, 10)))"
   ]
  },
  {
   "cell_type": "code",
   "execution_count": null,
   "metadata": {},
   "outputs": [],
   "source": []
  }
 ],
 "metadata": {
  "kernelspec": {
   "display_name": "Python 3",
   "language": "python",
   "name": "python3"
  },
  "language_info": {
   "codemirror_mode": {
    "name": "ipython",
    "version": 3
   },
   "file_extension": ".py",
   "mimetype": "text/x-python",
   "name": "python",
   "nbconvert_exporter": "python",
   "pygments_lexer": "ipython3",
   "version": "3.7.3"
  }
 },
 "nbformat": 4,
 "nbformat_minor": 2
}
