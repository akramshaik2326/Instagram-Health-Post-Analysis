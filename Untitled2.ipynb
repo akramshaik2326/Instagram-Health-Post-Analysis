{
 "cells": [
  {
   "cell_type": "code",
   "execution_count": 1,
   "metadata": {},
   "outputs": [],
   "source": [
    "import os\n",
    "import json\n",
    "import shutil # for copying the files\n",
    "import os.path # for setting the destination folder\n",
    "import numpy as np\n",
    "from sklearn.cluster import KMeans\n",
    "import os, shutil, glob, os.path\n",
    "from keras.preprocessing import image\n",
    "\n",
    "# importing the library for extracting the winrar files\n",
    "try:\n",
    "    import lzma\n",
    "except ImportError:\n",
    "    from backports import lzma"
   ]
  },
  {
   "cell_type": "code",
   "execution_count": 3,
   "metadata": {},
   "outputs": [],
   "source": [
    "'''for root, subdirs, files in os.walk('E:/insta filter/#covid_19/'):\n",
    "    for d in subdirs:\n",
    "        if d == 'vgg16':\n",
    "            shutil.rmtree(os.path.join(root,d))'''"
   ]
  },
  {
   "cell_type": "code",
   "execution_count": 6,
   "metadata": {},
   "outputs": [],
   "source": [
    "maindir = 'E:/insta filter/#covid_19/'\n",
    "folder =[]\n",
    "os.chdir(maindir)\n",
    "#Determining the country code in the folder\n",
    "for name in os.listdir(\".\"):\n",
    "    if os.path.isdir(name):\n",
    "        folder.append(name)\n",
    "\n",
    "#Initialize no. of clusters to zero\n",
    "number_clusters = 0\n",
    "totaljpg = []\n",
    "images_folders=[]\n",
    "onlyfiles=[]\n",
    "#Determining the files in the country\n",
    "for name in folder:\n",
    "    ogdir = maindir + name +'/'\n",
    "    os.chdir(ogdir)\n",
    "    #changing the directory and finding jpg files\n",
    "    for file in glob.glob(\"*.jpg\"):\n",
    "        onlyfiles.append(file)\n",
    "    images_folders.append(len(onlyfiles))\n",
    "    onlyfiles=[]"
   ]
  },
  {
   "cell_type": "code",
   "execution_count": 11,
   "metadata": {},
   "outputs": [
    {
     "name": "stdout",
     "output_type": "stream",
     "text": [
      "52371\n"
     ]
    }
   ],
   "source": [
    "c=0\n",
    "for i in images_folders:\n",
    "    if i > 167:\n",
    "        if i >1500:\n",
    "            c+=1500\n",
    "            continue\n",
    "        c += i\n",
    "print(c)"
   ]
  },
  {
   "cell_type": "code",
   "execution_count": 57,
   "metadata": {},
   "outputs": [
    {
     "data": {
      "text/plain": [
       "122403"
      ]
     },
     "execution_count": 57,
     "metadata": {},
     "output_type": "execute_result"
    }
   ],
   "source": [
    "sum(images_folders)"
   ]
  },
  {
   "cell_type": "code",
   "execution_count": 39,
   "metadata": {},
   "outputs": [
    {
     "data": {
      "text/plain": [
       "[19,\n",
       " 716,\n",
       " 21,\n",
       " 84,\n",
       " 8,\n",
       " 16,\n",
       " 4764,\n",
       " 247,\n",
       " 2346,\n",
       " 127,\n",
       " 24,\n",
       " 9,\n",
       " 103,\n",
       " 309,\n",
       " 13,\n",
       " 34,\n",
       " 144,\n",
       " 2,\n",
       " 298,\n",
       " 6,\n",
       " 8309,\n",
       " 11,\n",
       " 8,\n",
       " 7,\n",
       " 79,\n",
       " 13,\n",
       " 3272,\n",
       " 30,\n",
       " 3,\n",
       " 285,\n",
       " 9,\n",
       " 3258,\n",
       " 18,\n",
       " 288,\n",
       " 2973,\n",
       " 95,\n",
       " 76,\n",
       " 4,\n",
       " 16,\n",
       " 53,\n",
       " 291,\n",
       " 1107,\n",
       " 365,\n",
       " 3,\n",
       " 569,\n",
       " 169,\n",
       " 813,\n",
       " 29,\n",
       " 193,\n",
       " 5143,\n",
       " 10,\n",
       " 111,\n",
       " 2353,\n",
       " 37,\n",
       " 6475,\n",
       " 37,\n",
       " 13,\n",
       " 165,\n",
       " 2,\n",
       " 25,\n",
       " 4,\n",
       " 421,\n",
       " 210,\n",
       " 10,\n",
       " 6,\n",
       " 264,\n",
       " 36,\n",
       " 77,\n",
       " 15,\n",
       " 160,\n",
       " 9270,\n",
       " 621,\n",
       " 718,\n",
       " 7472,\n",
       " 230,\n",
       " 1289,\n",
       " 39,\n",
       " 2911,\n",
       " 45,\n",
       " 200,\n",
       " 1993,\n",
       " 297,\n",
       " 13,\n",
       " 19,\n",
       " 2,\n",
       " 1244,\n",
       " 46,\n",
       " 3,\n",
       " 329,\n",
       " 12,\n",
       " 216,\n",
       " 16,\n",
       " 52,\n",
       " 2,\n",
       " 4,\n",
       " 19,\n",
       " 23,\n",
       " 13,\n",
       " 12,\n",
       " 489,\n",
       " 19,\n",
       " 20,\n",
       " 16,\n",
       " 2,\n",
       " 2,\n",
       " 9,\n",
       " 6,\n",
       " 43,\n",
       " 73,\n",
       " 30,\n",
       " 15,\n",
       " 16,\n",
       " 4,\n",
       " 17,\n",
       " 6,\n",
       " 4,\n",
       " 3410,\n",
       " 1539,\n",
       " 15,\n",
       " 9,\n",
       " 1727,\n",
       " 23,\n",
       " 710,\n",
       " 92,\n",
       " 137,\n",
       " 173,\n",
       " 72,\n",
       " 645,\n",
       " 958,\n",
       " 11,\n",
       " 4,\n",
       " 434,\n",
       " 1024,\n",
       " 343,\n",
       " 4,\n",
       " 200,\n",
       " 157,\n",
       " 433,\n",
       " 120,\n",
       " 54,\n",
       " 73,\n",
       " 41,\n",
       " 2283,\n",
       " 25,\n",
       " 253,\n",
       " 10,\n",
       " 188,\n",
       " 514,\n",
       " 39,\n",
       " 70,\n",
       " 2,\n",
       " 48,\n",
       " 13,\n",
       " 95,\n",
       " 7,\n",
       " 48,\n",
       " 4,\n",
       " 4,\n",
       " 514,\n",
       " 4,\n",
       " 2,\n",
       " 61,\n",
       " 3450,\n",
       " 105,\n",
       " 3,\n",
       " 190,\n",
       " 52,\n",
       " 738,\n",
       " 25,\n",
       " 4623,\n",
       " 17656,\n",
       " 290,\n",
       " 111,\n",
       " 12,\n",
       " 20,\n",
       " 2119,\n",
       " 12,\n",
       " 140,\n",
       " 28,\n",
       " 4,\n",
       " 16,\n",
       " 1086,\n",
       " 21,\n",
       " 19]"
      ]
     },
     "execution_count": 39,
     "metadata": {},
     "output_type": "execute_result"
    }
   ],
   "source": [
    "images_folders"
   ]
  },
  {
   "cell_type": "code",
   "execution_count": 4,
   "metadata": {},
   "outputs": [
    {
     "ename": "NameError",
     "evalue": "name 'images_folders' is not defined",
     "output_type": "error",
     "traceback": [
      "\u001b[1;31m---------------------------------------------------------------------------\u001b[0m",
      "\u001b[1;31mNameError\u001b[0m                                 Traceback (most recent call last)",
      "\u001b[1;32m<ipython-input-4-b3ab40171ce0>\u001b[0m in \u001b[0;36m<module>\u001b[1;34m\u001b[0m\n\u001b[1;32m----> 1\u001b[1;33m \u001b[0mimages_folders\u001b[0m\u001b[1;33m\u001b[0m\u001b[1;33m\u001b[0m\u001b[0m\n\u001b[0m",
      "\u001b[1;31mNameError\u001b[0m: name 'images_folders' is not defined"
     ]
    }
   ],
   "source": []
  },
  {
   "cell_type": "code",
   "execution_count": 49,
   "metadata": {},
   "outputs": [
    {
     "name": "stdout",
     "output_type": "stream",
     "text": [
      "0\n"
     ]
    }
   ],
   "source": [
    "c=0\n",
    "l=[]\n",
    "for i in images_folders:\n",
    "    if i>500:\n",
    "        l.append(500)\n",
    "    else:\n",
    "        l.append(i)\n",
    "print(c)\n",
    "import numpy as np\n",
    "import statistics\n",
    "int(np.round(statistics.mean(l)))"
   ]
  },
  {
   "cell_type": "code",
   "execution_count": 50,
   "metadata": {},
   "outputs": [
    {
     "data": {
      "text/plain": [
       "30291"
      ]
     },
     "execution_count": 50,
     "metadata": {},
     "output_type": "execute_result"
    }
   ],
   "source": [
    "sum(l)"
   ]
  },
  {
   "cell_type": "code",
   "execution_count": 55,
   "metadata": {},
   "outputs": [
    {
     "data": {
      "text/plain": [
       "165"
      ]
     },
     "execution_count": 55,
     "metadata": {},
     "output_type": "execute_result"
    }
   ],
   "source": [
    "import numpy as np\n",
    "import statistics\n",
    "int(np.round(statistics.mean(l)))"
   ]
  },
  {
   "cell_type": "code",
   "execution_count": 7,
   "metadata": {},
   "outputs": [
    {
     "name": "stdout",
     "output_type": "stream",
     "text": [
      "E:/insta filter/#covid_19/AD\\2020-09-21_08-00-39_UTC_1.jpg\n",
      "2020-09-21_08-00-39_UTC_1.jpg\n"
     ]
    }
   ],
   "source": [
    " \n",
    "\n",
    "import random\n",
    "#image.LOAD_TRUNCATED_IMAGES = True\n",
    "#model = VGG16(weights='imagenet', include_top=False)\n",
    "# Main Dir after filter\n",
    "maindir = 'E:/insta filter/#covid_19/'\n",
    "folder =[]\n",
    "os.chdir(maindir)\n",
    "#Determining the country code in the folder\n",
    "for name in os.listdir(\".\"):\n",
    "    if os.path.isdir(name):\n",
    "        folder.append(name)\n",
    "\n",
    "#Initialize no. of clusters to zero\n",
    "number_clusters = 0\n",
    "onlyfiles = []\n",
    "#Determining the files in the country\n",
    "for name in folder:\n",
    "    number_clusters = 0\n",
    "    ogdir = maindir + name +'/'\n",
    "    os.chdir(ogdir)\n",
    "    \n",
    "    filelist = glob.glob(os.path.join(ogdir, '*.jpg'))\n",
    "    print(filelist[0])\n",
    "    print(filelist[0].split('\\\\')[-1])\n",
    "    break\n",
    "    for file in glob.glob(\"*.jpg\"):\n",
    "        onlyfiles.append(file)\n",
    "    if (len(onlyfiles) < avg_no_images):\n",
    "        onlyfiles=[]\n",
    "        continue \n",
    "    elif ((len(onlyfiles) >= avg_no_images) and (len(onlyfiles) <= 300)):\n",
    "        number_clusters = int(3)\n",
    "        print('3 clusters taken')\n",
    "    elif ((len(onlyfiles) > 300) and (len(onlyfiles) <= 500)):\n",
    "        number_clusters = int(4)\n",
    "        print('4 clusters taken')\n",
    "    elif ((len(onlyfiles) > 500) and (len(onlyfiles) <= 750)):\n",
    "        number_clusters = int(5)\n",
    "        print('5 clusters taken')\n",
    "    elif (len(onlyfiles) > 750):\n",
    "        number_clusters = int(6)\n",
    "        print('6 clusters taken')\n",
    "    if number_clusters != 0:\n",
    "        filelist = glob.glob(os.path.join(ogdir, '*.jpg'))\n",
    "        if len(filelist) >1000:\n",
    "            filelist = random.sample(filelist, 1000)\n",
    "        print('num of clusters :', number_clusters)\n",
    "        filelist.sort() #files to extract features\n",
    "        featurelist = []\n",
    "        for i, path in enumerate(filelist):\n",
    "            print(\"    Status: %s / %s\" %(i, len(filelist)), end=\"\\r\")\n",
    "            img = image.load_img(path, target_size=(224, 224)) #loading image 224x224 size\n",
    "            data = image.img_to_array(img) \n",
    "            data = np.expand_dims(data, axis=0)\n",
    "            data = preprocess_input(data)\n",
    "            features = np.array(model.predict(data)) #Features extracted through transformation to array and dimension expansion\n",
    "            featurelist.append(features.flatten()) #storing all features of the images\n",
    "        kmeans = KMeans(n_clusters=number_clusters, random_state=0).fit(np.array(featurelist)) #Performing KMeans clustering on the features\n",
    "        print(\"\\n\")\n",
    "        targetdir = ogdir+\"vgg16/\" #Target Directory images being stored\n",
    "        try:\n",
    "            os.makedirs(targetdir)\n",
    "        except OSError:\n",
    "            pass\n",
    "        for i, m in enumerate(kmeans.labels_):\n",
    "            print(\"    Copy: %s / %s\" %(i, len(kmeans.labels_)), end=\"\\r\")\n",
    "            shutil.copy(filelist[i], targetdir + str(m) + \"_\" + str(filelist[i].split('\\\\')[-1])) #Copying the images to respective folders\n",
    "\n",
    "        onlyfiles=[] #Initializing no. of files to zero as swithing to new fodler\n",
    "        number_clusters=0"
   ]
  },
  {
   "cell_type": "code",
   "execution_count": null,
   "metadata": {},
   "outputs": [],
   "source": []
  }
 ],
 "metadata": {
  "kernelspec": {
   "display_name": "Python 3",
   "language": "python",
   "name": "python3"
  },
  "language_info": {
   "codemirror_mode": {
    "name": "ipython",
    "version": 3
   },
   "file_extension": ".py",
   "mimetype": "text/x-python",
   "name": "python",
   "nbconvert_exporter": "python",
   "pygments_lexer": "ipython3",
   "version": "3.7.3"
  }
 },
 "nbformat": 4,
 "nbformat_minor": 2
}
